{
 "cells": [
  {
   "cell_type": "code",
   "execution_count": 2,
   "metadata": {},
   "outputs": [],
   "source": [
    "students = [\n",
    "{ \"id\": '6512225001', \"name\": \"James\" }, #0\n",
    "{ \"id\": '6512225002', \"name\": \"Robert\" },#1\n",
    "{ \"id\": '6512225003', \"name\": \"Michael\" },#2\n",
    "{ \"id\": '6512225004', \"name\": \"Richard\" },#3\n",
    "{ \"id\": '6512225005', \"name\": \"Nicholas\" },#4\n",
    "{ \"id\": '6512225006', \"name\": \"Jeffrey\" },#5\n",
    "{ \"id\": '6512225007', \"name\": \"Patrick\" },#6\n",
    "{ \"id\": '6512225008', \"name\": \"Peter\" },#7\n",
    "{ \"id\": '6512225009', \"name\": \"Jonathan\" },#8\n",
    "{ \"id\": '6512225010', \"name\": \"Thomas\" },#9\n",
    "]"
   ]
  },
  {
   "cell_type": "code",
   "execution_count": 3,
   "metadata": {},
   "outputs": [],
   "source": [
    "friendships = [(0, 1), (0, 2), (1, 2), (1, 3), (2, 3), (3, 4),(4, 5),\n",
    "(5, 6), (5, 7), (6, 8), (7, 8), (8, 9)]"
   ]
  },
  {
   "cell_type": "code",
   "execution_count": 4,
   "metadata": {},
   "outputs": [
    {
     "data": {
      "text/plain": [
       "[{'id': '6512225001', 'name': 'James', 'friends': []},\n",
       " {'id': '6512225002', 'name': 'Robert', 'friends': []},\n",
       " {'id': '6512225003', 'name': 'Michael', 'friends': []},\n",
       " {'id': '6512225004', 'name': 'Richard', 'friends': []},\n",
       " {'id': '6512225005', 'name': 'Nicholas', 'friends': []},\n",
       " {'id': '6512225006', 'name': 'Jeffrey', 'friends': []},\n",
       " {'id': '6512225007', 'name': 'Patrick', 'friends': []},\n",
       " {'id': '6512225008', 'name': 'Peter', 'friends': []},\n",
       " {'id': '6512225009', 'name': 'Jonathan', 'friends': []},\n",
       " {'id': '6512225010', 'name': 'Thomas', 'friends': []}]"
      ]
     },
     "execution_count": 4,
     "metadata": {},
     "output_type": "execute_result"
    }
   ],
   "source": [
    "for student in students:\n",
    "    student[\"friends\"] = []\n",
    "students"
   ]
  },
  {
   "cell_type": "code",
   "execution_count": 6,
   "metadata": {},
   "outputs": [
    {
     "name": "stdout",
     "output_type": "stream",
     "text": [
      "{'id': '6512225001', 'name': 'James', 'friends': [{'id': '6512225002', 'name': 'Robert'}, {'id': '6512225003', 'name': 'Michael'}, {'id': '6512225002', 'name': 'Robert'}, {'id': '6512225003', 'name': 'Michael'}]}\n",
      "{'id': '6512225002', 'name': 'Robert', 'friends': [{'id': '6512225001', 'name': 'James'}, {'id': '6512225003', 'name': 'Michael'}, {'id': '6512225004', 'name': 'Richard'}, {'id': '6512225001', 'name': 'James'}, {'id': '6512225003', 'name': 'Michael'}, {'id': '6512225004', 'name': 'Richard'}]}\n",
      "{'id': '6512225003', 'name': 'Michael', 'friends': [{'id': '6512225001', 'name': 'James'}, {'id': '6512225002', 'name': 'Robert'}, {'id': '6512225004', 'name': 'Richard'}, {'id': '6512225001', 'name': 'James'}, {'id': '6512225002', 'name': 'Robert'}, {'id': '6512225004', 'name': 'Richard'}]}\n",
      "{'id': '6512225004', 'name': 'Richard', 'friends': [{'id': '6512225002', 'name': 'Robert'}, {'id': '6512225003', 'name': 'Michael'}, {'id': '6512225005', 'name': 'Nicholas'}, {'id': '6512225002', 'name': 'Robert'}, {'id': '6512225003', 'name': 'Michael'}, {'id': '6512225005', 'name': 'Nicholas'}]}\n",
      "{'id': '6512225005', 'name': 'Nicholas', 'friends': [{'id': '6512225004', 'name': 'Richard'}, {'id': '6512225006', 'name': 'Jeffrey'}, {'id': '6512225004', 'name': 'Richard'}, {'id': '6512225006', 'name': 'Jeffrey'}]}\n",
      "{'id': '6512225006', 'name': 'Jeffrey', 'friends': [{'id': '6512225005', 'name': 'Nicholas'}, {'id': '6512225007', 'name': 'Patrick'}, {'id': '6512225008', 'name': 'Peter'}, {'id': '6512225005', 'name': 'Nicholas'}, {'id': '6512225007', 'name': 'Patrick'}, {'id': '6512225008', 'name': 'Peter'}]}\n",
      "{'id': '6512225007', 'name': 'Patrick', 'friends': [{'id': '6512225006', 'name': 'Jeffrey'}, {'id': '6512225009', 'name': 'Jonathan'}, {'id': '6512225006', 'name': 'Jeffrey'}, {'id': '6512225009', 'name': 'Jonathan'}]}\n",
      "{'id': '6512225008', 'name': 'Peter', 'friends': [{'id': '6512225006', 'name': 'Jeffrey'}, {'id': '6512225009', 'name': 'Jonathan'}, {'id': '6512225006', 'name': 'Jeffrey'}, {'id': '6512225009', 'name': 'Jonathan'}]}\n",
      "{'id': '6512225009', 'name': 'Jonathan', 'friends': [{'id': '6512225007', 'name': 'Patrick'}, {'id': '6512225008', 'name': 'Peter'}, {'id': '6512225010', 'name': 'Thomas'}, {'id': '6512225007', 'name': 'Patrick'}, {'id': '6512225008', 'name': 'Peter'}, {'id': '6512225010', 'name': 'Thomas'}]}\n",
      "{'id': '6512225010', 'name': 'Thomas', 'friends': [{'id': '6512225009', 'name': 'Jonathan'}, {'id': '6512225009', 'name': 'Jonathan'}]}\n"
     ]
    }
   ],
   "source": [
    "# Populate the \"friends\" list for each student\n",
    "for friend1, friend2 in friendships:    # ***friendships = [(friend1, friend2)]\n",
    "    students[friend1][\"friends\"].append({ \"id\": students[friend2][\"id\"], \"name\": students[friend2][\"name\"] })\n",
    "    students[friend2][\"friends\"].append({ \"id\": students[friend1][\"id\"], \"name\": students[friend1][\"name\"] })\n",
    "\n",
    "# Print the ID, name, and friends(ID and name for each student)\n",
    "for student in students:\n",
    "    print(student)\n",
    "\n",
    "# ---- Credit by Songpon Singkhonrat ----"
   ]
  }
 ],
 "metadata": {
  "kernelspec": {
   "display_name": "Python 3",
   "language": "python",
   "name": "python3"
  },
  "language_info": {
   "codemirror_mode": {
    "name": "ipython",
    "version": 3
   },
   "file_extension": ".py",
   "mimetype": "text/x-python",
   "name": "python",
   "nbconvert_exporter": "python",
   "pygments_lexer": "ipython3",
   "version": "3.11.4"
  },
  "orig_nbformat": 4
 },
 "nbformat": 4,
 "nbformat_minor": 2
}
