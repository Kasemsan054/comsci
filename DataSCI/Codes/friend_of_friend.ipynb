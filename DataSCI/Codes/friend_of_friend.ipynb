{
 "cells": [
  {
   "cell_type": "code",
   "execution_count": 81,
   "metadata": {},
   "outputs": [
    {
     "data": {
      "text/plain": [
       "[{'id': '6512225001', 'name': 'James', 'friends': []},\n",
       " {'id': '6512225002', 'name': 'Robert', 'friends': []},\n",
       " {'id': '6512225003', 'name': 'Michael', 'friends': []},\n",
       " {'id': '6512225004', 'name': 'Richard', 'friends': []},\n",
       " {'id': '6512225005', 'name': 'Nicholas', 'friends': []},\n",
       " {'id': '6512225006', 'name': 'Jeffrey', 'friends': []},\n",
       " {'id': '6512225007', 'name': 'Patrick', 'friends': []},\n",
       " {'id': '6512225008', 'name': 'Peter', 'friends': []},\n",
       " {'id': '6512225009', 'name': 'Jonathan', 'friends': []},\n",
       " {'id': '6512225010', 'name': 'Thomas', 'friends': []}]"
      ]
     },
     "execution_count": 81,
     "metadata": {},
     "output_type": "execute_result"
    }
   ],
   "source": [
    "students = [\n",
    "{ \"id\": '6512225001', \"name\": \"James\" }, #0\n",
    "{ \"id\": '6512225002', \"name\": \"Robert\" },#1\n",
    "{ \"id\": '6512225003', \"name\": \"Michael\" },#2\n",
    "{ \"id\": '6512225004', \"name\": \"Richard\" },#3\n",
    "{ \"id\": '6512225005', \"name\": \"Nicholas\" },#4\n",
    "{ \"id\": '6512225006', \"name\": \"Jeffrey\" },#5\n",
    "{ \"id\": '6512225007', \"name\": \"Patrick\" },#6\n",
    "{ \"id\": '6512225008', \"name\": \"Peter\" },#7\n",
    "{ \"id\": '6512225009', \"name\": \"Jonathan\" },#8\n",
    "{ \"id\": '6512225010', \"name\": \"Thomas\" },#9\n",
    "]\n",
    "\n",
    "friendships = [(0, 1), (0, 2), (1, 2), (1, 3), (2, 3), (3, 4),(4, 5),\n",
    "(5, 6), (5, 7), (6, 8), (7, 8), (8, 9)]\n",
    "\n",
    "for student in students:\n",
    "    student[\"friends\"] = []\n",
    "\n",
    "students"
   ]
  },
  {
   "cell_type": "markdown",
   "metadata": {},
   "source": [
    "# **งาน**"
   ]
  },
  {
   "cell_type": "markdown",
   "metadata": {},
   "source": [
    "## 1. ให้นักศึกษานําความสัมพันธ์จาก friendships tuple ลงใน students"
   ]
  },
  {
   "cell_type": "code",
   "execution_count": 82,
   "metadata": {},
   "outputs": [
    {
     "name": "stdout",
     "output_type": "stream",
     "text": [
      "{'id': '6512225001', 'name': 'James', 'friends': [{'id': '6512225002', 'name': 'Robert'}, {'id': '6512225003', 'name': 'Michael'}]}\n",
      "{'id': '6512225002', 'name': 'Robert', 'friends': [{'id': '6512225001', 'name': 'James'}, {'id': '6512225003', 'name': 'Michael'}, {'id': '6512225004', 'name': 'Richard'}]}\n",
      "{'id': '6512225003', 'name': 'Michael', 'friends': [{'id': '6512225001', 'name': 'James'}, {'id': '6512225002', 'name': 'Robert'}, {'id': '6512225004', 'name': 'Richard'}]}\n",
      "{'id': '6512225004', 'name': 'Richard', 'friends': [{'id': '6512225002', 'name': 'Robert'}, {'id': '6512225003', 'name': 'Michael'}, {'id': '6512225005', 'name': 'Nicholas'}]}\n",
      "{'id': '6512225005', 'name': 'Nicholas', 'friends': [{'id': '6512225004', 'name': 'Richard'}, {'id': '6512225006', 'name': 'Jeffrey'}]}\n",
      "{'id': '6512225006', 'name': 'Jeffrey', 'friends': [{'id': '6512225005', 'name': 'Nicholas'}, {'id': '6512225007', 'name': 'Patrick'}, {'id': '6512225008', 'name': 'Peter'}]}\n",
      "{'id': '6512225007', 'name': 'Patrick', 'friends': [{'id': '6512225006', 'name': 'Jeffrey'}, {'id': '6512225009', 'name': 'Jonathan'}]}\n",
      "{'id': '6512225008', 'name': 'Peter', 'friends': [{'id': '6512225006', 'name': 'Jeffrey'}, {'id': '6512225009', 'name': 'Jonathan'}]}\n",
      "{'id': '6512225009', 'name': 'Jonathan', 'friends': [{'id': '6512225007', 'name': 'Patrick'}, {'id': '6512225008', 'name': 'Peter'}, {'id': '6512225010', 'name': 'Thomas'}]}\n",
      "{'id': '6512225010', 'name': 'Thomas', 'friends': [{'id': '6512225009', 'name': 'Jonathan'}]}\n"
     ]
    }
   ],
   "source": [
    "for friend1, friend2 in friendships:\n",
    "    students[friend1][\"friends\"].append({ \"id\": students[friend2][\"id\"], \"name\": students[friend2][\"name\"] })\n",
    "    students[friend2][\"friends\"].append({ \"id\": students[friend1][\"id\"], \"name\": students[friend1][\"name\"] })\n",
    "\n",
    "for student in students: print(student)\n",
    "# ---- Credit by Songpon Singkhonrat ----"
   ]
  },
  {
   "cell_type": "markdown",
   "metadata": {},
   "source": [
    "## 2. เขียน function หาจํานวนการเชื่อมต่อทั้งหมด ของ friendships"
   ]
  },
  {
   "cell_type": "code",
   "execution_count": 83,
   "metadata": {},
   "outputs": [
    {
     "name": "stdout",
     "output_type": "stream",
     "text": [
      "จํานวนการเชื่อมต่อทั้งหมด ของ friendships คือ 24 จำนวน\n"
     ]
    }
   ],
   "source": [
    "def connection():\n",
    "    print(f\"จํานวนการเชื่อมต่อทั้งหมด ของ friendships คือ {len(friendships) * 2} จำนวน\")\n",
    "connection()\n",
    "\n",
    "# ---- Credit by Chanadpol Poosuwan ----"
   ]
  },
  {
   "cell_type": "markdown",
   "metadata": {},
   "source": [
    "## 3. แสดงจํานวน friend ของนักศึกษาแต่ละคน (ตามรหัสนักศึกษา) เช่น 6512225001 จํานวน 2 คน"
   ]
  },
  {
   "cell_type": "code",
   "execution_count": 84,
   "metadata": {},
   "outputs": [
    {
     "name": "stdout",
     "output_type": "stream",
     "text": [
      "6512225001 จำนวน 2 คน\n",
      "6512225002 จำนวน 3 คน\n",
      "6512225003 จำนวน 3 คน\n",
      "6512225004 จำนวน 3 คน\n",
      "6512225005 จำนวน 2 คน\n",
      "6512225006 จำนวน 3 คน\n",
      "6512225007 จำนวน 2 คน\n",
      "6512225008 จำนวน 2 คน\n",
      "6512225009 จำนวน 3 คน\n",
      "6512225010 จำนวน 1 คน\n"
     ]
    }
   ],
   "source": [
    "for student in students:\n",
    "    print(f\"{str(student['id'])} จำนวน {str(len(student['friends']))} คน\")"
   ]
  },
  {
   "cell_type": "markdown",
   "metadata": {},
   "source": [
    "## 4. ทําการ sort จากจํานวนเพื่อน เรียงตามลําดับ"
   ]
  },
  {
   "cell_type": "code",
   "execution_count": 85,
   "metadata": {},
   "outputs": [
    {
     "name": "stdout",
     "output_type": "stream",
     "text": [
      "{'id': '6512225002', 'name': 'Robert', 'friends': [{'id': '6512225001', 'name': 'James'}, {'id': '6512225003', 'name': 'Michael'}, {'id': '6512225004', 'name': 'Richard'}]}\n",
      "{'id': '6512225003', 'name': 'Michael', 'friends': [{'id': '6512225001', 'name': 'James'}, {'id': '6512225002', 'name': 'Robert'}, {'id': '6512225004', 'name': 'Richard'}]}\n",
      "{'id': '6512225004', 'name': 'Richard', 'friends': [{'id': '6512225002', 'name': 'Robert'}, {'id': '6512225003', 'name': 'Michael'}, {'id': '6512225005', 'name': 'Nicholas'}]}\n",
      "{'id': '6512225006', 'name': 'Jeffrey', 'friends': [{'id': '6512225005', 'name': 'Nicholas'}, {'id': '6512225007', 'name': 'Patrick'}, {'id': '6512225008', 'name': 'Peter'}]}\n",
      "{'id': '6512225009', 'name': 'Jonathan', 'friends': [{'id': '6512225007', 'name': 'Patrick'}, {'id': '6512225008', 'name': 'Peter'}, {'id': '6512225010', 'name': 'Thomas'}]}\n",
      "{'id': '6512225001', 'name': 'James', 'friends': [{'id': '6512225002', 'name': 'Robert'}, {'id': '6512225003', 'name': 'Michael'}]}\n",
      "{'id': '6512225005', 'name': 'Nicholas', 'friends': [{'id': '6512225004', 'name': 'Richard'}, {'id': '6512225006', 'name': 'Jeffrey'}]}\n",
      "{'id': '6512225007', 'name': 'Patrick', 'friends': [{'id': '6512225006', 'name': 'Jeffrey'}, {'id': '6512225009', 'name': 'Jonathan'}]}\n",
      "{'id': '6512225008', 'name': 'Peter', 'friends': [{'id': '6512225006', 'name': 'Jeffrey'}, {'id': '6512225009', 'name': 'Jonathan'}]}\n",
      "{'id': '6512225010', 'name': 'Thomas', 'friends': [{'id': '6512225009', 'name': 'Jonathan'}]}\n"
     ]
    }
   ],
   "source": [
    "students = sorted(students, key=lambda student: len(student[\"friends\"]), reverse=True)\n",
    "for student in students: print(student)\n",
    "\n",
    "# ---- Credit by Songpon Singkhonrat ----"
   ]
  },
  {
   "cell_type": "markdown",
   "metadata": {},
   "source": [
    "## 5. หา friend of Friend ของแต่ละ student"
   ]
  },
  {
   "cell_type": "code",
   "execution_count": 86,
   "metadata": {},
   "outputs": [
    {
     "name": "stdout",
     "output_type": "stream",
     "text": [
      "เพื่อนของเพื่อน ของ Robert คือ ['Nicholas']\n",
      "เพื่อนของเพื่อน ของ Michael คือ ['Nicholas']\n",
      "เพื่อนของเพื่อน ของ Richard คือ ['Jeffrey', 'James']\n",
      "เพื่อนของเพื่อน ของ Jeffrey คือ ['Richard', 'Jonathan']\n",
      "เพื่อนของเพื่อน ของ Jonathan คือ ['Jeffrey']\n",
      "เพื่อนของเพื่อน ของ James คือ ['Richard']\n",
      "เพื่อนของเพื่อน ของ Nicholas คือ ['Michael', 'Patrick', 'Robert', 'Peter']\n",
      "เพื่อนของเพื่อน ของ Patrick คือ ['Thomas', 'Nicholas', 'Peter']\n",
      "เพื่อนของเพื่อน ของ Peter คือ ['Patrick', 'Thomas', 'Nicholas']\n",
      "เพื่อนของเพื่อน ของ Thomas คือ ['Patrick', 'Peter']\n"
     ]
    }
   ],
   "source": [
    "student_index = {student['id']: i for i, student in enumerate(students)}\n",
    "for student in students:\n",
    "    friends_of_friends = set()\n",
    "    \n",
    "    # Iterate through each friend\n",
    "    for friend in student['friends']:\n",
    "        friend_id = friend['id']\n",
    "        friend_index = student_index[friend_id]\n",
    "        friend_friends = students[friend_index]['friends']\n",
    "        \n",
    "        # Iterate through each friend's friend\n",
    "        for friend_friend in friend_friends:\n",
    "            \n",
    "            # Check if the friend's friend is not the student and not already a friend\n",
    "            if friend_friend['id'] != student['id'] and friend_friend['id'] not in [f['id'] for f in student['friends']]:\n",
    "                friends_of_friends.add((friend_friend['name']))\n",
    "    \n",
    "    # Print result\n",
    "    print(f\"เพื่อนของเพื่อน ของ {student['name']} คือ {list(friends_of_friends)}\")\n",
    "\n",
    "# ---- Credit by Songpon Singkhonrat & Chanadpol Poosuwan ----"
   ]
  }
 ],
 "metadata": {
  "kernelspec": {
   "display_name": "Python 3",
   "language": "python",
   "name": "python3"
  },
  "language_info": {
   "codemirror_mode": {
    "name": "ipython",
    "version": 3
   },
   "file_extension": ".py",
   "mimetype": "text/x-python",
   "name": "python",
   "nbconvert_exporter": "python",
   "pygments_lexer": "ipython3",
   "version": "3.11.4"
  },
  "orig_nbformat": 4
 },
 "nbformat": 4,
 "nbformat_minor": 2
}
