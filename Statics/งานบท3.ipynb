{
 "cells": [
  {
   "cell_type": "code",
   "execution_count": 15,
   "metadata": {
    "vscode": {
     "languageId": "r"
    }
   },
   "outputs": [
    {
     "data": {
      "text/html": [
       "0.747507462453077"
      ],
      "text/latex": [
       "0.747507462453077"
      ],
      "text/markdown": [
       "0.747507462453077"
      ],
      "text/plain": [
       "[1] 0.7475075"
      ]
     },
     "metadata": {},
     "output_type": "display_data"
    }
   ],
   "source": [
    "# Normal Distribution ตัวอย่างที่ 20\n",
    "mean = 60\n",
    "sd = 15\n",
    "1 - pnorm(50, mean, sd)"
   ]
  },
  {
   "cell_type": "code",
   "execution_count": 22,
   "metadata": {
    "vscode": {
     "languageId": "r"
    }
   },
   "outputs": [
    {
     "data": {
      "text/html": [
       "0.884930329778292"
      ],
      "text/latex": [
       "0.884930329778292"
      ],
      "text/markdown": [
       "0.884930329778292"
      ],
      "text/plain": [
       "[1] 0.8849303"
      ]
     },
     "metadata": {},
     "output_type": "display_data"
    }
   ],
   "source": [
    "### 20.1\n",
    "1 - pnorm(42, 60, 15)"
   ]
  },
  {
   "cell_type": "code",
   "execution_count": 23,
   "metadata": {
    "vscode": {
     "languageId": "r"
    }
   },
   "outputs": [
    {
     "data": {
      "text/html": [
       "707.944263822634"
      ],
      "text/latex": [
       "707.944263822634"
      ],
      "text/markdown": [
       "707.944263822634"
      ],
      "text/plain": [
       "[1] 707.9443"
      ]
     },
     "metadata": {},
     "output_type": "display_data"
    }
   ],
   "source": [
    "### 20.2\n",
    "0.884930329778292 * 800"
   ]
  },
  {
   "cell_type": "code",
   "execution_count": 53,
   "metadata": {
    "vscode": {
     "languageId": "r"
    }
   },
   "outputs": [
    {
     "data": {
      "text/html": [
       "84.1344746068543"
      ],
      "text/latex": [
       "84.1344746068543"
      ],
      "text/markdown": [
       "84.1344746068543"
      ],
      "text/plain": [
       "[1] 84.13447"
      ]
     },
     "metadata": {},
     "output_type": "display_data"
    }
   ],
   "source": [
    "### 20.3\n",
    "pnorm(75, 60, 15) * 100"
   ]
  },
  {
   "cell_type": "code",
   "execution_count": 26,
   "metadata": {
    "vscode": {
     "languageId": "r"
    }
   },
   "outputs": [
    {
     "data": {
      "text/html": [
       "0.894350226333145"
      ],
      "text/latex": [
       "0.894350226333145"
      ],
      "text/markdown": [
       "0.894350226333145"
      ],
      "text/plain": [
       "[1] 0.8943502"
      ]
     },
     "metadata": {},
     "output_type": "display_data"
    }
   ],
   "source": [
    "### ตัวอย่างที่ 21\n",
    "1 - pnorm(6.5, 7, .4)"
   ]
  },
  {
   "cell_type": "code",
   "execution_count": 28,
   "metadata": {
    "vscode": {
     "languageId": "r"
    }
   },
   "outputs": [
    {
     "data": {
      "text/html": [
       "7.26979590007843"
      ],
      "text/latex": [
       "7.26979590007843"
      ],
      "text/markdown": [
       "7.26979590007843"
      ],
      "text/plain": [
       "[1] 7.269796"
      ]
     },
     "metadata": {},
     "output_type": "display_data"
    }
   ],
   "source": [
    "### 21.2\n",
    "qnorm(0.75, 7,  .4)"
   ]
  },
  {
   "cell_type": "code",
   "execution_count": 32,
   "metadata": {
    "vscode": {
     "languageId": "r"
    }
   },
   "outputs": [
    {
     "data": {
      "text/html": [
       "2.20413065649864"
      ],
      "text/latex": [
       "2.20413065649864"
      ],
      "text/markdown": [
       "2.20413065649864"
      ],
      "text/plain": [
       "[1] 2.204131"
      ]
     },
     "metadata": {},
     "output_type": "display_data"
    }
   ],
   "source": [
    "### ตัวอย่างที่ 22.1\n",
    "qchisq(.1, 6)"
   ]
  },
  {
   "cell_type": "code",
   "execution_count": 33,
   "metadata": {
    "vscode": {
     "languageId": "r"
    }
   },
   "outputs": [
    {
     "data": {
      "text/html": [
       "10.6446406756684"
      ],
      "text/latex": [
       "10.6446406756684"
      ],
      "text/markdown": [
       "10.6446406756684"
      ],
      "text/plain": [
       "[1] 10.64464"
      ]
     },
     "metadata": {},
     "output_type": "display_data"
    }
   ],
   "source": [
    "### ตัวอย่างที่ 22.2\n",
    "qchisq(.9, 6)"
   ]
  },
  {
   "cell_type": "code",
   "execution_count": 34,
   "metadata": {
    "vscode": {
     "languageId": "r"
    }
   },
   "outputs": [
    {
     "data": {
      "text/html": [
       "0.199988779921491"
      ],
      "text/latex": [
       "0.199988779921491"
      ],
      "text/markdown": [
       "0.199988779921491"
      ],
      "text/plain": [
       "[1] 0.1999888"
      ]
     },
     "metadata": {},
     "output_type": "display_data"
    }
   ],
   "source": [
    "### ตัวอย่างที่ 22.3\n",
    "pchisq(3.07, 6)"
   ]
  },
  {
   "cell_type": "code",
   "execution_count": 35,
   "metadata": {
    "vscode": {
     "languageId": "r"
    }
   },
   "outputs": [
    {
     "data": {
      "text/html": [
       "0.0500290117389153"
      ],
      "text/latex": [
       "0.0500290117389153"
      ],
      "text/markdown": [
       "0.0500290117389153"
      ],
      "text/plain": [
       "[1] 0.05002901"
      ]
     },
     "metadata": {},
     "output_type": "display_data"
    }
   ],
   "source": [
    "### ตัวอย่างที่ 22.4\n",
    "1 - pchisq(12.59, 6)"
   ]
  },
  {
   "cell_type": "code",
   "execution_count": 37,
   "metadata": {
    "vscode": {
     "languageId": "r"
    }
   },
   "outputs": [
    {
     "data": {
      "text/html": [
       "1.35621733402321"
      ],
      "text/latex": [
       "1.35621733402321"
      ],
      "text/markdown": [
       "1.35621733402321"
      ],
      "text/plain": [
       "[1] 1.356217"
      ]
     },
     "metadata": {},
     "output_type": "display_data"
    }
   ],
   "source": [
    "### ตัวอย่างที่ 1 (T)\n",
    "qt(.9, 12)"
   ]
  },
  {
   "cell_type": "code",
   "execution_count": 39,
   "metadata": {
    "vscode": {
     "languageId": "r"
    }
   },
   "outputs": [
    {
     "data": {
      "text/html": [
       "-1.35621733402321"
      ],
      "text/latex": [
       "-1.35621733402321"
      ],
      "text/markdown": [
       "-1.35621733402321"
      ],
      "text/plain": [
       "[1] -1.356217"
      ]
     },
     "metadata": {},
     "output_type": "display_data"
    }
   ],
   "source": [
    "### ตัวอย่างที่ 2 (T)\n",
    "qt(.1, 12)"
   ]
  },
  {
   "cell_type": "code",
   "execution_count": 40,
   "metadata": {
    "vscode": {
     "languageId": "r"
    }
   },
   "outputs": [
    {
     "data": {
      "text/html": [
       "1.78228755564932"
      ],
      "text/latex": [
       "1.78228755564932"
      ],
      "text/markdown": [
       "1.78228755564932"
      ],
      "text/plain": [
       "[1] 1.782288"
      ]
     },
     "metadata": {},
     "output_type": "display_data"
    }
   ],
   "source": [
    "### ตัวอย่างที่ 3 (T)\n",
    "qt(.95, 12)"
   ]
  },
  {
   "cell_type": "code",
   "execution_count": 41,
   "metadata": {
    "vscode": {
     "languageId": "r"
    }
   },
   "outputs": [
    {
     "data": {
      "text/html": [
       "4.29605440400905"
      ],
      "text/latex": [
       "4.29605440400905"
      ],
      "text/markdown": [
       "4.29605440400905"
      ],
      "text/plain": [
       "[1] 4.296054"
      ]
     },
     "metadata": {},
     "output_type": "display_data"
    }
   ],
   "source": [
    "### ตัวอย่างที่ 1 (F)\n",
    "qf(.99, 10, 12)"
   ]
  },
  {
   "cell_type": "code",
   "execution_count": 43,
   "metadata": {
    "vscode": {
     "languageId": "r"
    }
   },
   "outputs": [
    {
     "data": {
      "text/html": [
       "0.301542617957513"
      ],
      "text/latex": [
       "0.301542617957513"
      ],
      "text/markdown": [
       "0.301542617957513"
      ],
      "text/plain": [
       "[1] 0.3015426"
      ]
     },
     "metadata": {},
     "output_type": "display_data"
    }
   ],
   "source": [
    "### ตัวอย่างที่ 2 (F)\n",
    "qf(.1, 5, 9)"
   ]
  },
  {
   "cell_type": "markdown",
   "metadata": {},
   "source": [
    "## แบบฝึกหัดที่ 38"
   ]
  },
  {
   "cell_type": "code",
   "execution_count": 45,
   "metadata": {
    "vscode": {
     "languageId": "r"
    }
   },
   "outputs": [
    {
     "data": {
      "text/html": [
       "6.68072012688581"
      ],
      "text/latex": [
       "6.68072012688581"
      ],
      "text/markdown": [
       "6.68072012688581"
      ],
      "text/plain": [
       "[1] 6.68072"
      ]
     },
     "metadata": {},
     "output_type": "display_data"
    }
   ],
   "source": [
    "mean = 5000\n",
    "sd = 400\n",
    "pnorm(4400, mean, sd) * 100"
   ]
  },
  {
   "cell_type": "code",
   "execution_count": 52,
   "metadata": {
    "vscode": {
     "languageId": "r"
    }
   },
   "outputs": [
    {
     "data": {
      "text/html": [
       "4663.35150657083"
      ],
      "text/latex": [
       "4663.35150657083"
      ],
      "text/markdown": [
       "4663.35150657083"
      ],
      "text/plain": [
       "[1] 4663.352"
      ]
     },
     "metadata": {},
     "output_type": "display_data"
    }
   ],
   "source": [
    "qnorm(.2, mean, sd)"
   ]
  }
 ],
 "metadata": {
  "kernelspec": {
   "display_name": "R 3.3",
   "language": "R",
   "name": "ir33"
  },
  "language_info": {
   "codemirror_mode": "r",
   "file_extension": ".r",
   "mimetype": "text/x-r-source",
   "name": "R",
   "pygments_lexer": "r",
   "version": "4.3.1"
  },
  "orig_nbformat": 4
 },
 "nbformat": 4,
 "nbformat_minor": 2
}
